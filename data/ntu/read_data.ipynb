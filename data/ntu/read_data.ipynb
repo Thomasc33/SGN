{
 "cells": [
  {
   "cell_type": "code",
   "execution_count": 1,
   "metadata": {},
   "outputs": [],
   "source": [
    "import h5py"
   ]
  },
  {
   "cell_type": "code",
   "execution_count": 6,
   "metadata": {},
   "outputs": [
    {
     "name": "stdout",
     "output_type": "stream",
     "text": [
      "['test_x', 'test_y', 'valid_x', 'valid_y', 'x', 'y']\n",
      "<HDF5 dataset \"x\": shape (38086, 300, 150), type \"<f4\">\n"
     ]
    }
   ],
   "source": [
    "with h5py.File('NTU_CS.h5', 'r') as f:\n",
    "    # Now you can read datasets and groups within the file\n",
    "    print(list(f.keys()))\n",
    "    print(f['x'])"
   ]
  }
 ],
 "metadata": {
  "kernelspec": {
   "display_name": "Python 3",
   "language": "python",
   "name": "python3"
  },
  "language_info": {
   "codemirror_mode": {
    "name": "ipython",
    "version": 3
   },
   "file_extension": ".py",
   "mimetype": "text/x-python",
   "name": "python",
   "nbconvert_exporter": "python",
   "pygments_lexer": "ipython3",
   "version": "3.9.13"
  }
 },
 "nbformat": 4,
 "nbformat_minor": 2
}
