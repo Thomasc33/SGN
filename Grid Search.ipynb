{
 "cells": [
  {
   "cell_type": "code",
   "execution_count": 1,
   "metadata": {},
   "outputs": [],
   "source": [
    "import subprocess\n",
    "import itertools\n",
    "import os"
   ]
  },
  {
   "cell_type": "code",
   "execution_count": 2,
   "metadata": {},
   "outputs": [],
   "source": [
    "# Base command for your script\n",
    "base_command = \"python main.py --network SGN --train 0 --case 1 --dataset NTU\"\n",
    "\n",
    "# Define parameter grids\n",
    "\n",
    "# Smart masking parameters\n",
    "betas = [0.2, 0.4, 0.6, 0.8]\n",
    "alphas = [0.1, 0.5, 0.9]\n",
    "tags = ['ar', 'ri']\n",
    "\n",
    "# Smart noise parameters\n",
    "epsilon_noise = [1, 2, 4, 6, 8, 10]\n",
    "alphas_noise = [0.1, 0.5, 0.9]\n",
    "tags_noise = ['ar', 'ri']"
   ]
  },
  {
   "cell_type": "code",
   "execution_count": 3,
   "metadata": {},
   "outputs": [],
   "source": [
    "# Function to run smart masking experiments\n",
    "def run_smart_masking_experiments():\n",
    "    # Create all combinations\n",
    "    masking_params = list(itertools.product(betas, alphas, tags))\n",
    "    \n",
    "    for beta, alpha, tag in masking_params:\n",
    "        # Construct the command\n",
    "        command = (\n",
    "            f\"{base_command} --load-dir results/NTU{tag} --smart-masking 1 \"\n",
    "            f\"--beta {beta} --alpha {alpha} --tag {tag}\"\n",
    "        )\n",
    "        \n",
    "        # File to save the output\n",
    "        output_file = f\"smart_masking_beta_{beta}_alpha_{alpha}_tag_{tag}.txt\"\n",
    "        \n",
    "        print(f\"Running command: {command}\")\n",
    "        \n",
    "        # Run the command and capture the output\n",
    "        with open(output_file, 'w') as f:\n",
    "            process = subprocess.run(command, shell=True, stdout=f, stderr=subprocess.STDOUT)\n",
    "\n",
    "# Function to run smart noise experiments\n",
    "def run_smart_noise_experiments():\n",
    "    # Create all combinations\n",
    "    noise_params = list(itertools.product(epsilon_noise, alphas_noise, tags_noise))\n",
    "    \n",
    "    for epsilon, alpha, tag in noise_params:\n",
    "        # Construct the command\n",
    "        command = (\n",
    "            f\"{base_command} --load-dir results/NTU{tag} --smart-noise 1 \"\n",
    "            f\"--epsilon {epsilon} --alpha {alpha} --tag {tag}\"\n",
    "        )\n",
    "        \n",
    "        # File to save the output\n",
    "        output_file = f\"smart_noise_variance_{epsilon}_alpha_{alpha}_tag_{tag}.txt\"\n",
    "        \n",
    "        print(f\"Running command: {command}\")\n",
    "        \n",
    "        # Run the command and capture the output\n",
    "        with open(output_file, 'w') as f:\n",
    "            process = subprocess.run(command, shell=True, stdout=f, stderr=subprocess.STDOUT)"
   ]
  },
  {
   "cell_type": "code",
   "execution_count": null,
   "metadata": {},
   "outputs": [],
   "source": [
    "# Run smart masking experiments\n",
    "run_smart_masking_experiments()"
   ]
  },
  {
   "cell_type": "code",
   "execution_count": 4,
   "metadata": {},
   "outputs": [
    {
     "name": "stdout",
     "output_type": "stream",
     "text": [
      "Running command: python main.py --network SGN --train 0 --case 1 --dataset NTU --load-dir results/NTUar --smart-noise 1 --epsilon 1 --alpha 0.1 --tag ar\n"
     ]
    }
   ],
   "source": [
    "# Run smart noise experiments\n",
    "run_smart_noise_experiments()"
   ]
  }
 ],
 "metadata": {
  "kernelspec": {
   "display_name": "Python 3",
   "language": "python",
   "name": "python3"
  },
  "language_info": {
   "codemirror_mode": {
    "name": "ipython",
    "version": 3
   },
   "file_extension": ".py",
   "mimetype": "text/x-python",
   "name": "python",
   "nbconvert_exporter": "python",
   "pygments_lexer": "ipython3",
   "version": "3.9.13"
  }
 },
 "nbformat": 4,
 "nbformat_minor": 2
}
