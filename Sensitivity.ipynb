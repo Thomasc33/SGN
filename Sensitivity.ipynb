{
 "cells": [
  {
   "cell_type": "code",
   "execution_count": null,
   "metadata": {},
   "outputs": [],
   "source": [
    "import torch\n",
    "import torch.nn as nn\n",
    "import torch.nn.functional as F\n",
    "import torch.nn.init as init\n",
    "import numpy as np\n",
    "import pickle"
   ]
  },
  {
   "cell_type": "code",
   "execution_count": null,
   "metadata": {},
   "outputs": [],
   "source": [
    "with open('data/ntu120/X_full.pkl', 'rb') as f:\n",
    "    X = pickle.load(f)"
   ]
  },
  {
   "cell_type": "code",
   "execution_count": null,
   "metadata": {},
   "outputs": [],
   "source": [
    "min_ = {str(i): np.inf for i in range(75)}\n",
    "max_ = {str(i): -np.inf for i in range(75)}\n",
    "for key in X:\n",
    "    x = X[key][:, :75]\n",
    "\n",
    "    # Remove zero rows\n",
    "    x = x[~np.all(x == 0, axis=1)]\n",
    "\n",
    "    # Zero the hip\n",
    "    x -= np.tile(x[:, :3], 25)\n",
    "    \n",
    "    # Store min and max\n",
    "    for i in range(75):\n",
    "        min_[str(i)] = min(min_[str(i)], np.min(x[:, i]))\n",
    "        max_[str(i)] = max(max_[str(i)], np.max(x[:, i]))\n",
    "print(min_, max_)"
   ]
  },
  {
   "cell_type": "code",
   "execution_count": null,
   "metadata": {},
   "outputs": [],
   "source": [
    "# Rename Keys in min_ and max_ to be X1, Y1, Z1, X2, Y2, Z2, ...\n",
    "new_min = {}\n",
    "new_max = {}\n",
    "for i in range(25):\n",
    "    new_min[f'X{i+1}'] = min_[str(3*i)]\n",
    "    new_min[f'Y{i+1}'] = min_[str(3*i+1)]\n",
    "    new_min[f'Z{i+1}'] = min_[str(3*i+2)]\n",
    "    new_max[f'X{i+1}'] = max_[str(3*i)]\n",
    "    new_max[f'Y{i+1}'] = max_[str(3*i+1)]\n",
    "    new_max[f'Z{i+1}'] = max_[str(3*i+2)]\n",
    "print('Minimum Values:\\n', new_min)\n",
    "print('Maximum Values:\\n', new_max)"
   ]
  },
  {
   "cell_type": "code",
   "execution_count": null,
   "metadata": {},
   "outputs": [],
   "source": [
    "import math\n",
    "mini = list(new_min.values())\n",
    "maxi = list(new_max.values())\n",
    "sensitivity = [math.ceil(maxi[i]-mini[i]) for i in range(75)]\n",
    "print('Sensitivity:', sensitivity)"
   ]
  }
 ],
 "metadata": {
  "kernelspec": {
   "display_name": "Python 3",
   "language": "python",
   "name": "python3"
  },
  "language_info": {
   "codemirror_mode": {
    "name": "ipython",
    "version": 3
   },
   "file_extension": ".py",
   "mimetype": "text/x-python",
   "name": "python",
   "nbconvert_exporter": "python",
   "pygments_lexer": "ipython3",
   "version": "3.9.13"
  }
 },
 "nbformat": 4,
 "nbformat_minor": 2
}
